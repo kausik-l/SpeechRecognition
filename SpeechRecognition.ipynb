{
 "cells": [
  {
   "cell_type": "code",
   "execution_count": 5,
   "metadata": {},
   "outputs": [],
   "source": [
    "#Speech Recognition\n",
    "#In anaconda command prompt,\n",
    "\n",
    "\n",
    "#pip install speechrecognition         # It Supports various offline/online recognition engines\n",
    "#conda install pyaudio                #PyAudio enables the user to record and play the audio files irrespective of the platform i.e. it is completely platform-independent.\n"
   ]
  },
  {
   "cell_type": "code",
   "execution_count": 13,
   "metadata": {},
   "outputs": [],
   "source": [
    "#variable = speech_recognition.Recognizer()  #Recognizer is used to recognize the audio of the input file we give"
   ]
  },
  {
   "cell_type": "code",
   "execution_count": 12,
   "metadata": {},
   "outputs": [],
   "source": [
    "# The input to the speechrecognition module is of two types:\n",
    "\n",
    "# Pre-recorded audio file\n",
    "\n",
    "# Voice input through default Microphone\n",
    "\n",
    "#The input will directly be recorded from the default microphone with the below command\n",
    "\n",
    "# with SRG.Microphone() as source  \n",
    "\n",
    "#To use a pre-recorded source:\n",
    "\n",
    "# with SRG.AudioFile(name of the audio file) as source"
   ]
  },
  {
   "cell_type": "code",
   "execution_count": null,
   "metadata": {},
   "outputs": [],
   "source": [
    "# # The record() method is used to set the source of the input and the time for which the microphone needs to accept and record the input audio.\n",
    "\n",
    "# # record(source, duration)\n",
    "# # source: Defines the source of input such as audio file, input from microphone, etc.\n",
    "# # duration: The time period (in seconds) for which the microphone would be active and accept the input voice from the user.\n",
    "\n",
    "# The recognize_google() function recognizes the input voice passed to it as a parameter and returns it in the text form. If the user wishes to use any other language for speech recognition like Spanish, Japanese, etc, will need to pass the language as a parameter to the function."
   ]
  },
  {
   "cell_type": "code",
   "execution_count": null,
   "metadata": {},
   "outputs": [],
   "source": [
    "# CODE BEGINS"
   ]
  },
  {
   "cell_type": "code",
   "execution_count": 20,
   "metadata": {},
   "outputs": [
    {
     "name": "stdout",
     "output_type": "stream",
     "text": [
      "Speak...\n",
      "Recording time: 10:15:40\n",
      "Text has been converted from audio:\n",
      "\n",
      "వాట్ ఇస్ ది ఎలిమెంట్స్\n",
      "Finished!\n",
      "Execution time:  10:15:43\n"
     ]
    }
   ],
   "source": [
    "import speech_recognition as SRG #imports SpeechRecognition module\n",
    "import time\n",
    "\n",
    "store = SRG.Recognizer()\n",
    "with SRG.Microphone() as s:\n",
    "    print(\"Speak...\")\n",
    "    \n",
    "    audio_input = store.record(s, duration=7)\n",
    "    print(\"Recording time:\", time.strftime(\"%I:%M:%S\"))\n",
    "    \n",
    "    try:\n",
    "        text_output = store.recognize_google(audio_input, language=\"te-IN\")\n",
    "        print(\"Text has been converted from audio:\\n\")\n",
    "        print(text_output)\n",
    "        print(\"Finished!\")\n",
    "        \n",
    "        print(\"Execution time: \", time.strftime(\"%I:%M:%S\"))\n",
    "    \n",
    "    except:\n",
    "        print(\"Couldn't process the audio input!\")"
   ]
  },
  {
   "cell_type": "code",
   "execution_count": null,
   "metadata": {},
   "outputs": [],
   "source": []
  }
 ],
 "metadata": {
  "kernelspec": {
   "display_name": "Python 3",
   "language": "python",
   "name": "python3"
  },
  "language_info": {
   "codemirror_mode": {
    "name": "ipython",
    "version": 3
   },
   "file_extension": ".py",
   "mimetype": "text/x-python",
   "name": "python",
   "nbconvert_exporter": "python",
   "pygments_lexer": "ipython3",
   "version": "3.7.6"
  }
 },
 "nbformat": 4,
 "nbformat_minor": 4
}
